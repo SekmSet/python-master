{
 "cells": [
  {
   "cell_type": "code",
   "execution_count": 4,
   "id": "initial_id",
   "metadata": {
    "collapsed": true,
    "ExecuteTime": {
     "end_time": "2023-10-26T08:44:08.344378Z",
     "start_time": "2023-10-26T08:44:08.304709Z"
    }
   },
   "outputs": [
    {
     "data": {
      "text/plain": "    Symbol                    Name                  Sector   Price  \\\n0      MMM              3M Company             Industrials  222.89   \n1      AOS         A.O. Smith Corp             Industrials   60.24   \n2      ABT     Abbott Laboratories             Health Care   56.27   \n3     ABBV             AbbVie Inc.             Health Care  108.48   \n4      ACN           Accenture plc  Information Technology  150.51   \n..     ...                     ...                     ...     ...   \n500    XYL              Xylem Inc.             Industrials   70.24   \n501    YUM         Yum! Brands Inc  Consumer Discretionary   76.30   \n502    ZBH  Zimmer Biomet Holdings             Health Care  115.53   \n503   ZION           Zions Bancorp              Financials   50.71   \n504    ZTS                  Zoetis             Health Care   71.51   \n\n     Price/Earnings  Dividend Yield  Earnings/Share  52 Week Low  \\\n0             24.31        2.332862            7.92       259.77   \n1             27.76        1.147959            1.70        68.39   \n2             22.51        1.908982            0.26        64.60   \n3             19.41        2.499560            3.29       125.86   \n4             25.47        1.714470            5.44       162.60   \n..              ...             ...             ...          ...   \n500           30.94        1.170079            1.83        76.81   \n501           27.25        1.797080            4.07        86.93   \n502           14.32        0.794834            9.01       133.49   \n503           17.73        1.480933            2.60        55.61   \n504           32.80        0.682372            1.65        80.13   \n\n     52 Week High    Market Cap        EBITDA  Price/Sales  Price/Book  \\\n0         175.490  138721055226  9.048000e+09     4.390271       11.34   \n1          48.925   10783419933  6.010000e+08     3.575483        6.35   \n2          42.280  102121042306  5.744000e+09     3.740480        3.19   \n3          60.050  181386347059  1.031000e+10     6.291571       26.14   \n4         114.820   98765855553  5.643228e+09     2.604117       10.62   \n..            ...           ...           ...          ...         ...   \n500        46.860   12915021000  7.220000e+08     2.726209        5.31   \n501        62.850   27003303098  2.289000e+09     6.313636      212.08   \n502       108.170   24454698119  2.007400e+09     3.164895        2.39   \n503        38.430   10670678640  0.000000e+00     3.794579        1.42   \n504        52.000   35991109776  1.734000e+09     9.280896       18.09   \n\n                                           SEC Filings  \n0    http://www.sec.gov/cgi-bin/browse-edgar?action...  \n1    http://www.sec.gov/cgi-bin/browse-edgar?action...  \n2    http://www.sec.gov/cgi-bin/browse-edgar?action...  \n3    http://www.sec.gov/cgi-bin/browse-edgar?action...  \n4    http://www.sec.gov/cgi-bin/browse-edgar?action...  \n..                                                 ...  \n500  http://www.sec.gov/cgi-bin/browse-edgar?action...  \n501  http://www.sec.gov/cgi-bin/browse-edgar?action...  \n502  http://www.sec.gov/cgi-bin/browse-edgar?action...  \n503  http://www.sec.gov/cgi-bin/browse-edgar?action...  \n504  http://www.sec.gov/cgi-bin/browse-edgar?action...  \n\n[505 rows x 14 columns]",
      "text/html": "<div>\n<style scoped>\n    .dataframe tbody tr th:only-of-type {\n        vertical-align: middle;\n    }\n\n    .dataframe tbody tr th {\n        vertical-align: top;\n    }\n\n    .dataframe thead th {\n        text-align: right;\n    }\n</style>\n<table border=\"1\" class=\"dataframe\">\n  <thead>\n    <tr style=\"text-align: right;\">\n      <th></th>\n      <th>Symbol</th>\n      <th>Name</th>\n      <th>Sector</th>\n      <th>Price</th>\n      <th>Price/Earnings</th>\n      <th>Dividend Yield</th>\n      <th>Earnings/Share</th>\n      <th>52 Week Low</th>\n      <th>52 Week High</th>\n      <th>Market Cap</th>\n      <th>EBITDA</th>\n      <th>Price/Sales</th>\n      <th>Price/Book</th>\n      <th>SEC Filings</th>\n    </tr>\n  </thead>\n  <tbody>\n    <tr>\n      <th>0</th>\n      <td>MMM</td>\n      <td>3M Company</td>\n      <td>Industrials</td>\n      <td>222.89</td>\n      <td>24.31</td>\n      <td>2.332862</td>\n      <td>7.92</td>\n      <td>259.77</td>\n      <td>175.490</td>\n      <td>138721055226</td>\n      <td>9.048000e+09</td>\n      <td>4.390271</td>\n      <td>11.34</td>\n      <td>http://www.sec.gov/cgi-bin/browse-edgar?action...</td>\n    </tr>\n    <tr>\n      <th>1</th>\n      <td>AOS</td>\n      <td>A.O. Smith Corp</td>\n      <td>Industrials</td>\n      <td>60.24</td>\n      <td>27.76</td>\n      <td>1.147959</td>\n      <td>1.70</td>\n      <td>68.39</td>\n      <td>48.925</td>\n      <td>10783419933</td>\n      <td>6.010000e+08</td>\n      <td>3.575483</td>\n      <td>6.35</td>\n      <td>http://www.sec.gov/cgi-bin/browse-edgar?action...</td>\n    </tr>\n    <tr>\n      <th>2</th>\n      <td>ABT</td>\n      <td>Abbott Laboratories</td>\n      <td>Health Care</td>\n      <td>56.27</td>\n      <td>22.51</td>\n      <td>1.908982</td>\n      <td>0.26</td>\n      <td>64.60</td>\n      <td>42.280</td>\n      <td>102121042306</td>\n      <td>5.744000e+09</td>\n      <td>3.740480</td>\n      <td>3.19</td>\n      <td>http://www.sec.gov/cgi-bin/browse-edgar?action...</td>\n    </tr>\n    <tr>\n      <th>3</th>\n      <td>ABBV</td>\n      <td>AbbVie Inc.</td>\n      <td>Health Care</td>\n      <td>108.48</td>\n      <td>19.41</td>\n      <td>2.499560</td>\n      <td>3.29</td>\n      <td>125.86</td>\n      <td>60.050</td>\n      <td>181386347059</td>\n      <td>1.031000e+10</td>\n      <td>6.291571</td>\n      <td>26.14</td>\n      <td>http://www.sec.gov/cgi-bin/browse-edgar?action...</td>\n    </tr>\n    <tr>\n      <th>4</th>\n      <td>ACN</td>\n      <td>Accenture plc</td>\n      <td>Information Technology</td>\n      <td>150.51</td>\n      <td>25.47</td>\n      <td>1.714470</td>\n      <td>5.44</td>\n      <td>162.60</td>\n      <td>114.820</td>\n      <td>98765855553</td>\n      <td>5.643228e+09</td>\n      <td>2.604117</td>\n      <td>10.62</td>\n      <td>http://www.sec.gov/cgi-bin/browse-edgar?action...</td>\n    </tr>\n    <tr>\n      <th>...</th>\n      <td>...</td>\n      <td>...</td>\n      <td>...</td>\n      <td>...</td>\n      <td>...</td>\n      <td>...</td>\n      <td>...</td>\n      <td>...</td>\n      <td>...</td>\n      <td>...</td>\n      <td>...</td>\n      <td>...</td>\n      <td>...</td>\n      <td>...</td>\n    </tr>\n    <tr>\n      <th>500</th>\n      <td>XYL</td>\n      <td>Xylem Inc.</td>\n      <td>Industrials</td>\n      <td>70.24</td>\n      <td>30.94</td>\n      <td>1.170079</td>\n      <td>1.83</td>\n      <td>76.81</td>\n      <td>46.860</td>\n      <td>12915021000</td>\n      <td>7.220000e+08</td>\n      <td>2.726209</td>\n      <td>5.31</td>\n      <td>http://www.sec.gov/cgi-bin/browse-edgar?action...</td>\n    </tr>\n    <tr>\n      <th>501</th>\n      <td>YUM</td>\n      <td>Yum! Brands Inc</td>\n      <td>Consumer Discretionary</td>\n      <td>76.30</td>\n      <td>27.25</td>\n      <td>1.797080</td>\n      <td>4.07</td>\n      <td>86.93</td>\n      <td>62.850</td>\n      <td>27003303098</td>\n      <td>2.289000e+09</td>\n      <td>6.313636</td>\n      <td>212.08</td>\n      <td>http://www.sec.gov/cgi-bin/browse-edgar?action...</td>\n    </tr>\n    <tr>\n      <th>502</th>\n      <td>ZBH</td>\n      <td>Zimmer Biomet Holdings</td>\n      <td>Health Care</td>\n      <td>115.53</td>\n      <td>14.32</td>\n      <td>0.794834</td>\n      <td>9.01</td>\n      <td>133.49</td>\n      <td>108.170</td>\n      <td>24454698119</td>\n      <td>2.007400e+09</td>\n      <td>3.164895</td>\n      <td>2.39</td>\n      <td>http://www.sec.gov/cgi-bin/browse-edgar?action...</td>\n    </tr>\n    <tr>\n      <th>503</th>\n      <td>ZION</td>\n      <td>Zions Bancorp</td>\n      <td>Financials</td>\n      <td>50.71</td>\n      <td>17.73</td>\n      <td>1.480933</td>\n      <td>2.60</td>\n      <td>55.61</td>\n      <td>38.430</td>\n      <td>10670678640</td>\n      <td>0.000000e+00</td>\n      <td>3.794579</td>\n      <td>1.42</td>\n      <td>http://www.sec.gov/cgi-bin/browse-edgar?action...</td>\n    </tr>\n    <tr>\n      <th>504</th>\n      <td>ZTS</td>\n      <td>Zoetis</td>\n      <td>Health Care</td>\n      <td>71.51</td>\n      <td>32.80</td>\n      <td>0.682372</td>\n      <td>1.65</td>\n      <td>80.13</td>\n      <td>52.000</td>\n      <td>35991109776</td>\n      <td>1.734000e+09</td>\n      <td>9.280896</td>\n      <td>18.09</td>\n      <td>http://www.sec.gov/cgi-bin/browse-edgar?action...</td>\n    </tr>\n  </tbody>\n</table>\n<p>505 rows × 14 columns</p>\n</div>"
     },
     "execution_count": 4,
     "metadata": {},
     "output_type": "execute_result"
    }
   ],
   "source": [
    "import pandas as pd\n",
    "\n",
    "df = pd.read_csv('./data/companies.csv')\n",
    "df"
   ]
  },
  {
   "cell_type": "code",
   "execution_count": null,
   "outputs": [],
   "source": [],
   "metadata": {
    "collapsed": false
   },
   "id": "ca670a36ad6fbf95"
  }
 ],
 "metadata": {
  "kernelspec": {
   "display_name": "Python 3",
   "language": "python",
   "name": "python3"
  },
  "language_info": {
   "codemirror_mode": {
    "name": "ipython",
    "version": 2
   },
   "file_extension": ".py",
   "mimetype": "text/x-python",
   "name": "python",
   "nbconvert_exporter": "python",
   "pygments_lexer": "ipython2",
   "version": "2.7.6"
  }
 },
 "nbformat": 4,
 "nbformat_minor": 5
}
