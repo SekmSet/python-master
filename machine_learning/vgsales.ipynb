{
 "cells": [
  {
   "cell_type": "code",
   "execution_count": 69,
   "id": "initial_id",
   "metadata": {
    "ExecuteTime": {
     "end_time": "2023-10-26T09:31:32.778734Z",
     "start_time": "2023-10-26T09:31:32.706232Z"
    }
   },
   "outputs": [
    {
     "data": {
      "text/plain": "(16598, 11)"
     },
     "execution_count": 69,
     "metadata": {},
     "output_type": "execute_result"
    }
   ],
   "source": [
    "import pandas as pd\n",
    "\n",
    "df = pd.read_csv('./data/vgsales.csv')\n",
    "\n",
    "df"
   ]
  },
  {
   "cell_type": "code",
   "execution_count": null,
   "outputs": [],
   "source": [
    "total_element = df.shape[0]\n",
    "df.shape"
   ],
   "metadata": {
    "collapsed": false
   },
   "id": "2ba0a8631e1b26e0"
  },
  {
   "cell_type": "code",
   "execution_count": 44,
   "outputs": [
    {
     "data": {
      "text/plain": "        Rank                                               Name Platform  \\\n1          2                                  Super Mario Bros.      NES   \n9         10                                          Duck Hunt      NES   \n22        23                                Super Mario Bros. 3      NES   \n96        97                                Super Mario Bros. 2      NES   \n127      128                                The Legend of Zelda      NES   \n...      ...                                                ...      ...   \n5862    5864                                        Famista '91      NES   \n6161    6163                                        Famista '92      NES   \n10309  10311                               Final Fantasy I & II      NES   \n11985  11987  Teenage Mutant Ninja Turtles: Tournament Fighters      NES   \n12636  12638                                 Adventures of Lolo      NES   \n\n         Year         Genre                     Publisher  NA_Sales  EU_Sales  \\\n1      1985.0      Platform                      Nintendo     29.08      3.58   \n9      1984.0       Shooter                      Nintendo     26.93      0.63   \n22     1988.0      Platform                      Nintendo      9.54      3.44   \n96     1988.0      Platform                      Nintendo      5.39      1.18   \n127    1986.0        Action                      Nintendo      3.74      0.93   \n...       ...           ...                           ...       ...       ...   \n5862   1990.0        Sports            Namco Bandai Games      0.00      0.00   \n6161   1991.0        Sports            Namco Bandai Games      0.00      0.00   \n10309  1994.0  Role-Playing                        Square      0.00      0.00   \n11985  1992.0      Fighting  Konami Digital Entertainment      0.04      0.01   \n12636  1989.0        Puzzle                HAL Laboratory      0.06      0.00   \n\n       JP_Sales  Other_Sales  Global_Sales  \n1          6.81         0.77         40.24  \n9          0.28         0.47         28.31  \n22         3.84         0.46         17.28  \n96         0.70         0.19          7.46  \n127        1.69         0.14          6.51  \n...         ...          ...           ...  \n5862       0.30         0.00          0.30  \n6161       0.28         0.00          0.28  \n10309      0.11         0.00          0.11  \n11985      0.02         0.00          0.07  \n12636      0.00         0.00          0.06  \n\n[98 rows x 11 columns]",
      "text/html": "<div>\n<style scoped>\n    .dataframe tbody tr th:only-of-type {\n        vertical-align: middle;\n    }\n\n    .dataframe tbody tr th {\n        vertical-align: top;\n    }\n\n    .dataframe thead th {\n        text-align: right;\n    }\n</style>\n<table border=\"1\" class=\"dataframe\">\n  <thead>\n    <tr style=\"text-align: right;\">\n      <th></th>\n      <th>Rank</th>\n      <th>Name</th>\n      <th>Platform</th>\n      <th>Year</th>\n      <th>Genre</th>\n      <th>Publisher</th>\n      <th>NA_Sales</th>\n      <th>EU_Sales</th>\n      <th>JP_Sales</th>\n      <th>Other_Sales</th>\n      <th>Global_Sales</th>\n    </tr>\n  </thead>\n  <tbody>\n    <tr>\n      <th>1</th>\n      <td>2</td>\n      <td>Super Mario Bros.</td>\n      <td>NES</td>\n      <td>1985.0</td>\n      <td>Platform</td>\n      <td>Nintendo</td>\n      <td>29.08</td>\n      <td>3.58</td>\n      <td>6.81</td>\n      <td>0.77</td>\n      <td>40.24</td>\n    </tr>\n    <tr>\n      <th>9</th>\n      <td>10</td>\n      <td>Duck Hunt</td>\n      <td>NES</td>\n      <td>1984.0</td>\n      <td>Shooter</td>\n      <td>Nintendo</td>\n      <td>26.93</td>\n      <td>0.63</td>\n      <td>0.28</td>\n      <td>0.47</td>\n      <td>28.31</td>\n    </tr>\n    <tr>\n      <th>22</th>\n      <td>23</td>\n      <td>Super Mario Bros. 3</td>\n      <td>NES</td>\n      <td>1988.0</td>\n      <td>Platform</td>\n      <td>Nintendo</td>\n      <td>9.54</td>\n      <td>3.44</td>\n      <td>3.84</td>\n      <td>0.46</td>\n      <td>17.28</td>\n    </tr>\n    <tr>\n      <th>96</th>\n      <td>97</td>\n      <td>Super Mario Bros. 2</td>\n      <td>NES</td>\n      <td>1988.0</td>\n      <td>Platform</td>\n      <td>Nintendo</td>\n      <td>5.39</td>\n      <td>1.18</td>\n      <td>0.70</td>\n      <td>0.19</td>\n      <td>7.46</td>\n    </tr>\n    <tr>\n      <th>127</th>\n      <td>128</td>\n      <td>The Legend of Zelda</td>\n      <td>NES</td>\n      <td>1986.0</td>\n      <td>Action</td>\n      <td>Nintendo</td>\n      <td>3.74</td>\n      <td>0.93</td>\n      <td>1.69</td>\n      <td>0.14</td>\n      <td>6.51</td>\n    </tr>\n    <tr>\n      <th>...</th>\n      <td>...</td>\n      <td>...</td>\n      <td>...</td>\n      <td>...</td>\n      <td>...</td>\n      <td>...</td>\n      <td>...</td>\n      <td>...</td>\n      <td>...</td>\n      <td>...</td>\n      <td>...</td>\n    </tr>\n    <tr>\n      <th>5862</th>\n      <td>5864</td>\n      <td>Famista '91</td>\n      <td>NES</td>\n      <td>1990.0</td>\n      <td>Sports</td>\n      <td>Namco Bandai Games</td>\n      <td>0.00</td>\n      <td>0.00</td>\n      <td>0.30</td>\n      <td>0.00</td>\n      <td>0.30</td>\n    </tr>\n    <tr>\n      <th>6161</th>\n      <td>6163</td>\n      <td>Famista '92</td>\n      <td>NES</td>\n      <td>1991.0</td>\n      <td>Sports</td>\n      <td>Namco Bandai Games</td>\n      <td>0.00</td>\n      <td>0.00</td>\n      <td>0.28</td>\n      <td>0.00</td>\n      <td>0.28</td>\n    </tr>\n    <tr>\n      <th>10309</th>\n      <td>10311</td>\n      <td>Final Fantasy I &amp; II</td>\n      <td>NES</td>\n      <td>1994.0</td>\n      <td>Role-Playing</td>\n      <td>Square</td>\n      <td>0.00</td>\n      <td>0.00</td>\n      <td>0.11</td>\n      <td>0.00</td>\n      <td>0.11</td>\n    </tr>\n    <tr>\n      <th>11985</th>\n      <td>11987</td>\n      <td>Teenage Mutant Ninja Turtles: Tournament Fighters</td>\n      <td>NES</td>\n      <td>1992.0</td>\n      <td>Fighting</td>\n      <td>Konami Digital Entertainment</td>\n      <td>0.04</td>\n      <td>0.01</td>\n      <td>0.02</td>\n      <td>0.00</td>\n      <td>0.07</td>\n    </tr>\n    <tr>\n      <th>12636</th>\n      <td>12638</td>\n      <td>Adventures of Lolo</td>\n      <td>NES</td>\n      <td>1989.0</td>\n      <td>Puzzle</td>\n      <td>HAL Laboratory</td>\n      <td>0.06</td>\n      <td>0.00</td>\n      <td>0.00</td>\n      <td>0.00</td>\n      <td>0.06</td>\n    </tr>\n  </tbody>\n</table>\n<p>98 rows × 11 columns</p>\n</div>"
     },
     "execution_count": 44,
     "metadata": {},
     "output_type": "execute_result"
    }
   ],
   "source": [
    "# Requête qui retourne tous les jeux sortis sur NES.\n",
    "filter = df[\"Platform\"] == \"NES\"\n",
    "df[filter]"
   ],
   "metadata": {
    "collapsed": false,
    "ExecuteTime": {
     "end_time": "2023-10-26T09:09:34.598685Z",
     "start_time": "2023-10-26T09:09:34.588064Z"
    }
   },
   "id": "24e0c71c27f24095"
  },
  {
   "cell_type": "code",
   "execution_count": 39,
   "outputs": [
    {
     "name": "stdout",
     "output_type": "stream",
     "text": [
      "4392.950000000332\n"
     ]
    }
   ],
   "source": [
    "# Requête qui retourne la somme des ventes japonaises de tous les jeux\n",
    "\n",
    "calculate_sum = 0\n",
    "\n",
    "for value in df[\"JP_Sales\"]:\n",
    "    calculate_sum += value\n",
    "\n",
    "print(calculate_sum)"
   ],
   "metadata": {
    "collapsed": false,
    "ExecuteTime": {
     "end_time": "2023-10-26T09:07:28.577039Z",
     "start_time": "2023-10-26T09:07:28.553933Z"
    }
   },
   "id": "c7c3c1eeca374a8"
  },
  {
   "cell_type": "code",
   "execution_count": 43,
   "outputs": [
    {
     "data": {
      "text/plain": "        Rank                                               Name Platform  \\\n3          4                                  Wii Sports Resort      Wii   \n8          9                          New Super Mario Bros. Wii      Wii   \n14        15                                       Wii Fit Plus      Wii   \n15        16                                 Kinect Adventures!     X360   \n16        17                                 Grand Theft Auto V      PS3   \n...      ...                                                ...      ...   \n16585  16588                                             Breach       PC   \n16586  16589                     Secret Files 2: Puritas Cordis       DS   \n16587  16590                           Mezase!! Tsuri Master DS       DS   \n16589  16592  Chou Ezaru wa Akai Hana: Koi wa Tsuki ni Shiru...      PSV   \n16596  16599                                         Know How 2       DS   \n\n         Year      Genre               Publisher  NA_Sales  EU_Sales  \\\n3      2009.0     Sports                Nintendo     15.75     11.01   \n8      2009.0   Platform                Nintendo     14.59      7.06   \n14     2009.0     Sports                Nintendo      9.09      8.59   \n15     2010.0       Misc  Microsoft Game Studios     14.97      4.94   \n16     2013.0     Action    Take-Two Interactive      7.01      9.27   \n...       ...        ...                     ...       ...       ...   \n16585  2011.0    Shooter               Destineer      0.01      0.00   \n16586  2009.0  Adventure             Deep Silver      0.00      0.01   \n16587  2009.0     Sports             Hudson Soft      0.00      0.00   \n16589  2016.0     Action         dramatic create      0.00      0.00   \n16596  2010.0     Puzzle                7G//AMES      0.00      0.01   \n\n       JP_Sales  Other_Sales  Global_Sales  \n3          3.28         2.96         33.00  \n8          4.70         2.26         28.62  \n14         2.53         1.79         22.00  \n15         0.24         1.67         21.82  \n16         0.97         4.14         21.40  \n...         ...          ...           ...  \n16585      0.00         0.00          0.01  \n16586      0.00         0.00          0.01  \n16587      0.01         0.00          0.01  \n16589      0.01         0.00          0.01  \n16596      0.00         0.00          0.01  \n\n[6576 rows x 11 columns]",
      "text/html": "<div>\n<style scoped>\n    .dataframe tbody tr th:only-of-type {\n        vertical-align: middle;\n    }\n\n    .dataframe tbody tr th {\n        vertical-align: top;\n    }\n\n    .dataframe thead th {\n        text-align: right;\n    }\n</style>\n<table border=\"1\" class=\"dataframe\">\n  <thead>\n    <tr style=\"text-align: right;\">\n      <th></th>\n      <th>Rank</th>\n      <th>Name</th>\n      <th>Platform</th>\n      <th>Year</th>\n      <th>Genre</th>\n      <th>Publisher</th>\n      <th>NA_Sales</th>\n      <th>EU_Sales</th>\n      <th>JP_Sales</th>\n      <th>Other_Sales</th>\n      <th>Global_Sales</th>\n    </tr>\n  </thead>\n  <tbody>\n    <tr>\n      <th>3</th>\n      <td>4</td>\n      <td>Wii Sports Resort</td>\n      <td>Wii</td>\n      <td>2009.0</td>\n      <td>Sports</td>\n      <td>Nintendo</td>\n      <td>15.75</td>\n      <td>11.01</td>\n      <td>3.28</td>\n      <td>2.96</td>\n      <td>33.00</td>\n    </tr>\n    <tr>\n      <th>8</th>\n      <td>9</td>\n      <td>New Super Mario Bros. Wii</td>\n      <td>Wii</td>\n      <td>2009.0</td>\n      <td>Platform</td>\n      <td>Nintendo</td>\n      <td>14.59</td>\n      <td>7.06</td>\n      <td>4.70</td>\n      <td>2.26</td>\n      <td>28.62</td>\n    </tr>\n    <tr>\n      <th>14</th>\n      <td>15</td>\n      <td>Wii Fit Plus</td>\n      <td>Wii</td>\n      <td>2009.0</td>\n      <td>Sports</td>\n      <td>Nintendo</td>\n      <td>9.09</td>\n      <td>8.59</td>\n      <td>2.53</td>\n      <td>1.79</td>\n      <td>22.00</td>\n    </tr>\n    <tr>\n      <th>15</th>\n      <td>16</td>\n      <td>Kinect Adventures!</td>\n      <td>X360</td>\n      <td>2010.0</td>\n      <td>Misc</td>\n      <td>Microsoft Game Studios</td>\n      <td>14.97</td>\n      <td>4.94</td>\n      <td>0.24</td>\n      <td>1.67</td>\n      <td>21.82</td>\n    </tr>\n    <tr>\n      <th>16</th>\n      <td>17</td>\n      <td>Grand Theft Auto V</td>\n      <td>PS3</td>\n      <td>2013.0</td>\n      <td>Action</td>\n      <td>Take-Two Interactive</td>\n      <td>7.01</td>\n      <td>9.27</td>\n      <td>0.97</td>\n      <td>4.14</td>\n      <td>21.40</td>\n    </tr>\n    <tr>\n      <th>...</th>\n      <td>...</td>\n      <td>...</td>\n      <td>...</td>\n      <td>...</td>\n      <td>...</td>\n      <td>...</td>\n      <td>...</td>\n      <td>...</td>\n      <td>...</td>\n      <td>...</td>\n      <td>...</td>\n    </tr>\n    <tr>\n      <th>16585</th>\n      <td>16588</td>\n      <td>Breach</td>\n      <td>PC</td>\n      <td>2011.0</td>\n      <td>Shooter</td>\n      <td>Destineer</td>\n      <td>0.01</td>\n      <td>0.00</td>\n      <td>0.00</td>\n      <td>0.00</td>\n      <td>0.01</td>\n    </tr>\n    <tr>\n      <th>16586</th>\n      <td>16589</td>\n      <td>Secret Files 2: Puritas Cordis</td>\n      <td>DS</td>\n      <td>2009.0</td>\n      <td>Adventure</td>\n      <td>Deep Silver</td>\n      <td>0.00</td>\n      <td>0.01</td>\n      <td>0.00</td>\n      <td>0.00</td>\n      <td>0.01</td>\n    </tr>\n    <tr>\n      <th>16587</th>\n      <td>16590</td>\n      <td>Mezase!! Tsuri Master DS</td>\n      <td>DS</td>\n      <td>2009.0</td>\n      <td>Sports</td>\n      <td>Hudson Soft</td>\n      <td>0.00</td>\n      <td>0.00</td>\n      <td>0.01</td>\n      <td>0.00</td>\n      <td>0.01</td>\n    </tr>\n    <tr>\n      <th>16589</th>\n      <td>16592</td>\n      <td>Chou Ezaru wa Akai Hana: Koi wa Tsuki ni Shiru...</td>\n      <td>PSV</td>\n      <td>2016.0</td>\n      <td>Action</td>\n      <td>dramatic create</td>\n      <td>0.00</td>\n      <td>0.00</td>\n      <td>0.01</td>\n      <td>0.00</td>\n      <td>0.01</td>\n    </tr>\n    <tr>\n      <th>16596</th>\n      <td>16599</td>\n      <td>Know How 2</td>\n      <td>DS</td>\n      <td>2010.0</td>\n      <td>Puzzle</td>\n      <td>7G//AMES</td>\n      <td>0.00</td>\n      <td>0.01</td>\n      <td>0.00</td>\n      <td>0.00</td>\n      <td>0.01</td>\n    </tr>\n  </tbody>\n</table>\n<p>6576 rows × 11 columns</p>\n</div>"
     },
     "execution_count": 43,
     "metadata": {},
     "output_type": "execute_result"
    }
   ],
   "source": [
    "# Requête qui retourne le nombre de jeux sorti à partir de 2008 \n",
    "filter_by_year = df[\"Year\"] > 2008.0\n",
    "df[filter_by_year]\n"
   ],
   "metadata": {
    "collapsed": false,
    "ExecuteTime": {
     "end_time": "2023-10-26T09:08:53.295281Z",
     "start_time": "2023-10-26T09:08:53.244996Z"
    }
   },
   "id": "a2d21ba5a068cb27"
  },
  {
   "cell_type": "code",
   "execution_count": 66,
   "outputs": [
    {
     "name": "stdout",
     "output_type": "stream",
     "text": [
      "7.98\n"
     ]
    }
   ],
   "source": [
    "# Requête qui retourne le pourcentage de jeu Wii.\n",
    "\n",
    "count_game_wii = 0\n",
    "total_game = df.shape[0]\n",
    "\n",
    "for value in df[\"Platform\"]:\n",
    "    if value == \"Wii\":\n",
    "        count_game_wii += 1\n",
    "\n",
    "result = count_game_wii / total_element\n",
    "print(\"{:.2f}\".format(result * 100))"
   ],
   "metadata": {
    "collapsed": false,
    "ExecuteTime": {
     "end_time": "2023-10-26T09:29:15.943322Z",
     "start_time": "2023-10-26T09:29:15.932371Z"
    }
   },
   "id": "267f63dd284626a5"
  },
  {
   "cell_type": "code",
   "execution_count": 56,
   "outputs": [
    {
     "name": "stdout",
     "output_type": "stream",
     "text": [
      "\n",
      "SELECT *\n",
      "FROM df\n",
      "WHERE Platform like \"Nes\";\n",
      "\n",
      "    index   Rank                                               Name Platform  \\\n",
      "0       1      2                                  Super Mario Bros.      NES   \n",
      "1       9     10                                          Duck Hunt      NES   \n",
      "2      22     23                                Super Mario Bros. 3      NES   \n",
      "3      96     97                                Super Mario Bros. 2      NES   \n",
      "4     127    128                                The Legend of Zelda      NES   \n",
      "..    ...    ...                                                ...      ...   \n",
      "93   5862   5864                                        Famista '91      NES   \n",
      "94   6161   6163                                        Famista '92      NES   \n",
      "95  10309  10311                               Final Fantasy I & II      NES   \n",
      "96  11985  11987  Teenage Mutant Ninja Turtles: Tournament Fighters      NES   \n",
      "97  12636  12638                                 Adventures of Lolo      NES   \n",
      "\n",
      "      Year         Genre                     Publisher  NA_Sales  EU_Sales  \\\n",
      "0   1985.0      Platform                      Nintendo     29.08      3.58   \n",
      "1   1984.0       Shooter                      Nintendo     26.93      0.63   \n",
      "2   1988.0      Platform                      Nintendo      9.54      3.44   \n",
      "3   1988.0      Platform                      Nintendo      5.39      1.18   \n",
      "4   1986.0        Action                      Nintendo      3.74      0.93   \n",
      "..     ...           ...                           ...       ...       ...   \n",
      "93  1990.0        Sports            Namco Bandai Games      0.00      0.00   \n",
      "94  1991.0        Sports            Namco Bandai Games      0.00      0.00   \n",
      "95  1994.0  Role-Playing                        Square      0.00      0.00   \n",
      "96  1992.0      Fighting  Konami Digital Entertainment      0.04      0.01   \n",
      "97  1989.0        Puzzle                HAL Laboratory      0.06      0.00   \n",
      "\n",
      "    JP_Sales  Other_Sales  Global_Sales  \n",
      "0       6.81         0.77         40.24  \n",
      "1       0.28         0.47         28.31  \n",
      "2       3.84         0.46         17.28  \n",
      "3       0.70         0.19          7.46  \n",
      "4       1.69         0.14          6.51  \n",
      "..       ...          ...           ...  \n",
      "93      0.30         0.00          0.30  \n",
      "94      0.28         0.00          0.28  \n",
      "95      0.11         0.00          0.11  \n",
      "96      0.02         0.00          0.07  \n",
      "97      0.00         0.00          0.06  \n",
      "\n",
      "[98 rows x 12 columns]\n"
     ]
    }
   ],
   "source": [
    "import sqldf\n",
    "\n",
    "# SQL : Requête qui retourne tous les jeux sortis sur NES.\n",
    "\n",
    "query_platform = \"\"\"\n",
    "SELECT *\n",
    "FROM df\n",
    "WHERE Platform like \"Nes\";\n",
    "\"\"\"\n",
    "print(query_platform)\n",
    "result = sqldf.run(query_platform)\n",
    "print(result)"
   ],
   "metadata": {
    "collapsed": false,
    "ExecuteTime": {
     "end_time": "2023-10-26T09:17:17.120353Z",
     "start_time": "2023-10-26T09:17:16.883798Z"
    }
   },
   "id": "14e0f10adedf7e76"
  },
  {
   "cell_type": "code",
   "execution_count": 62,
   "outputs": [
    {
     "name": "stdout",
     "output_type": "stream",
     "text": [
      "\n",
      "SELECT sum(JP_Sales)\n",
      "FROM df;\n",
      "\n",
      "   sum(JP_Sales)\n",
      "0        1291.02\n"
     ]
    }
   ],
   "source": [
    "# SQL : Requête qui retourne la somme des ventes japonaises de tous les jeux\n",
    "\n",
    "query_year = \"\"\"\n",
    "SELECT sum(JP_Sales)\n",
    "FROM df;\n",
    "\"\"\"\n",
    "print(query_year)\n",
    "result = sqldf.run(query_year)\n",
    "print(result)"
   ],
   "metadata": {
    "collapsed": false,
    "ExecuteTime": {
     "end_time": "2023-10-26T09:27:06.671859Z",
     "start_time": "2023-10-26T09:27:06.428709Z"
    }
   },
   "id": "983876defffe0157"
  },
  {
   "cell_type": "code",
   "execution_count": 63,
   "outputs": [
    {
     "name": "stdout",
     "output_type": "stream",
     "text": [
      "\n",
      "SELECT *\n",
      "FROM df\n",
      "WHERE Year > 2008;\n",
      "      index   Rank                                               Name  \\\n",
      "0         3      4                                  Wii Sports Resort   \n",
      "1         8      9                          New Super Mario Bros. Wii   \n",
      "2        14     15                                       Wii Fit Plus   \n",
      "3        15     16                                 Kinect Adventures!   \n",
      "4        16     17                                 Grand Theft Auto V   \n",
      "...     ...    ...                                                ...   \n",
      "6571  16585  16588                                             Breach   \n",
      "6572  16586  16589                     Secret Files 2: Puritas Cordis   \n",
      "6573  16587  16590                           Mezase!! Tsuri Master DS   \n",
      "6574  16589  16592  Chou Ezaru wa Akai Hana: Koi wa Tsuki ni Shiru...   \n",
      "6575  16596  16599                                         Know How 2   \n",
      "\n",
      "     Platform    Year      Genre               Publisher  NA_Sales  EU_Sales  \\\n",
      "0         Wii  2009.0     Sports                Nintendo     15.75     11.01   \n",
      "1         Wii  2009.0   Platform                Nintendo     14.59      7.06   \n",
      "2         Wii  2009.0     Sports                Nintendo      9.09      8.59   \n",
      "3        X360  2010.0       Misc  Microsoft Game Studios     14.97      4.94   \n",
      "4         PS3  2013.0     Action    Take-Two Interactive      7.01      9.27   \n",
      "...       ...     ...        ...                     ...       ...       ...   \n",
      "6571       PC  2011.0    Shooter               Destineer      0.01      0.00   \n",
      "6572       DS  2009.0  Adventure             Deep Silver      0.00      0.01   \n",
      "6573       DS  2009.0     Sports             Hudson Soft      0.00      0.00   \n",
      "6574      PSV  2016.0     Action         dramatic create      0.00      0.00   \n",
      "6575       DS  2010.0     Puzzle                7G//AMES      0.00      0.01   \n",
      "\n",
      "      JP_Sales  Other_Sales  Global_Sales  \n",
      "0         3.28         2.96         33.00  \n",
      "1         4.70         2.26         28.62  \n",
      "2         2.53         1.79         22.00  \n",
      "3         0.24         1.67         21.82  \n",
      "4         0.97         4.14         21.40  \n",
      "...        ...          ...           ...  \n",
      "6571      0.00         0.00          0.01  \n",
      "6572      0.00         0.00          0.01  \n",
      "6573      0.01         0.00          0.01  \n",
      "6574      0.01         0.00          0.01  \n",
      "6575      0.00         0.00          0.01  \n",
      "\n",
      "[6576 rows x 12 columns]\n"
     ]
    }
   ],
   "source": [
    "# SQL : Requête qui retourne le nombre de jeux sorti à partir de 2008.\n",
    "\n",
    "query_year = \"\"\"\n",
    "SELECT *\n",
    "FROM df\n",
    "WHERE Year > 2008;\n",
    "\"\"\"\n",
    "print(query_year)\n",
    "result = sqldf.run(query_year)\n",
    "print(result)"
   ],
   "metadata": {
    "collapsed": false,
    "ExecuteTime": {
     "end_time": "2023-10-26T09:27:18.118951Z",
     "start_time": "2023-10-26T09:27:17.827038Z"
    }
   },
   "id": "198d9137f791332e"
  },
  {
   "cell_type": "code",
   "execution_count": 77,
   "outputs": [
    {
     "name": "stdout",
     "output_type": "stream",
     "text": [
      "\n",
      "SELECT count(*)\n",
      "FROM df\n",
      "WHERE Platform like \"Wii\";\n",
      "\n",
      "   count(*)\n",
      "0   7.98289\n"
     ]
    }
   ],
   "source": [
    "# SQL : Requête qui retourne le pourcentage de jeu Wii.\n",
    "query_wii_game = \"\"\"\n",
    "SELECT count(*)\n",
    "FROM df\n",
    "WHERE Platform like \"Wii\";\n",
    "\"\"\"\n",
    "\n",
    "print(query_wii_game)\n",
    "result = sqldf.run(query_wii_game)\n",
    "result = (result / total_element) * 100\n",
    "print(result)"
   ],
   "metadata": {
    "collapsed": false,
    "ExecuteTime": {
     "end_time": "2023-10-26T09:35:12.634171Z",
     "start_time": "2023-10-26T09:35:12.403467Z"
    }
   },
   "id": "c4194909a6d7ad14"
  },
  {
   "cell_type": "code",
   "execution_count": null,
   "outputs": [],
   "source": [],
   "metadata": {
    "collapsed": false
   },
   "id": "371d0cc17a42bffe"
  }
 ],
 "metadata": {
  "kernelspec": {
   "display_name": "Python 3 (ipykernel)",
   "language": "python",
   "name": "python3"
  },
  "language_info": {
   "codemirror_mode": {
    "name": "ipython",
    "version": 3
   },
   "file_extension": ".py",
   "mimetype": "text/x-python",
   "name": "python",
   "nbconvert_exporter": "python",
   "pygments_lexer": "ipython3",
   "version": "3.10.10"
  }
 },
 "nbformat": 4,
 "nbformat_minor": 5
}
